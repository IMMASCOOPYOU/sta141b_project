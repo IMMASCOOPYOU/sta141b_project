{
 "cells": [
  {
   "cell_type": "code",
   "execution_count": 2,
   "metadata": {},
   "outputs": [],
   "source": [
    "import pandas as pd\n",
    "import numpy as np\n",
    "import seaborn as sns\n",
    "import matplotlib.pyplot as plt"
   ]
  },
  {
   "cell_type": "code",
   "execution_count": 8,
   "metadata": {},
   "outputs": [],
   "source": [
    "profs = pd.read_csv(\"profs.csv\")"
   ]
  },
  {
   "cell_type": "code",
   "execution_count": 9,
   "metadata": {},
   "outputs": [
    {
     "data": {
      "text/html": [
       "<div>\n",
       "<style scoped>\n",
       "    .dataframe tbody tr th:only-of-type {\n",
       "        vertical-align: middle;\n",
       "    }\n",
       "\n",
       "    .dataframe tbody tr th {\n",
       "        vertical-align: top;\n",
       "    }\n",
       "\n",
       "    .dataframe thead th {\n",
       "        text-align: right;\n",
       "    }\n",
       "</style>\n",
       "<table border=\"1\" class=\"dataframe\">\n",
       "  <thead>\n",
       "    <tr style=\"text-align: right;\">\n",
       "      <th></th>\n",
       "      <th>Unnamed: 0.1</th>\n",
       "      <th>Unnamed: 0</th>\n",
       "      <th>__typename</th>\n",
       "      <th>firstName</th>\n",
       "      <th>lastName</th>\n",
       "      <th>department</th>\n",
       "      <th>id</th>\n",
       "      <th>legacyId</th>\n",
       "      <th>numRatings</th>\n",
       "      <th>avgRating</th>\n",
       "      <th>avgDifficulty</th>\n",
       "    </tr>\n",
       "  </thead>\n",
       "  <tbody>\n",
       "    <tr>\n",
       "      <th>0</th>\n",
       "      <td>0</td>\n",
       "      <td>0</td>\n",
       "      <td>Teacher</td>\n",
       "      <td>Robert</td>\n",
       "      <td>Borgen</td>\n",
       "      <td>Languages</td>\n",
       "      <td>VGVhY2hlci05NTY2</td>\n",
       "      <td>9566</td>\n",
       "      <td>39</td>\n",
       "      <td>3.3</td>\n",
       "      <td>2.9</td>\n",
       "    </tr>\n",
       "    <tr>\n",
       "      <th>1</th>\n",
       "      <td>1</td>\n",
       "      <td>1</td>\n",
       "      <td>Teacher</td>\n",
       "      <td>Aram</td>\n",
       "      <td>Yengoyan</td>\n",
       "      <td>Anthropology</td>\n",
       "      <td>VGVhY2hlci05NTY4</td>\n",
       "      <td>9568</td>\n",
       "      <td>47</td>\n",
       "      <td>2.6</td>\n",
       "      <td>2.7</td>\n",
       "    </tr>\n",
       "    <tr>\n",
       "      <th>2</th>\n",
       "      <td>2</td>\n",
       "      <td>2</td>\n",
       "      <td>Teacher</td>\n",
       "      <td>Patrick</td>\n",
       "      <td>Carroll-Burke</td>\n",
       "      <td>Social Science</td>\n",
       "      <td>VGVhY2hlci05NTcw</td>\n",
       "      <td>9570</td>\n",
       "      <td>13</td>\n",
       "      <td>3.2</td>\n",
       "      <td>3.1</td>\n",
       "    </tr>\n",
       "    <tr>\n",
       "      <th>3</th>\n",
       "      <td>3</td>\n",
       "      <td>3</td>\n",
       "      <td>Teacher</td>\n",
       "      <td>Henry</td>\n",
       "      <td>McHenry</td>\n",
       "      <td>Anthropology</td>\n",
       "      <td>VGVhY2hlci0xMzQ4MQ==</td>\n",
       "      <td>13481</td>\n",
       "      <td>124</td>\n",
       "      <td>4.5</td>\n",
       "      <td>2.5</td>\n",
       "    </tr>\n",
       "    <tr>\n",
       "      <th>4</th>\n",
       "      <td>4</td>\n",
       "      <td>4</td>\n",
       "      <td>Teacher</td>\n",
       "      <td>Peter</td>\n",
       "      <td>Rodman</td>\n",
       "      <td>Anthropology</td>\n",
       "      <td>VGVhY2hlci0yMjIzMA==</td>\n",
       "      <td>22230</td>\n",
       "      <td>73</td>\n",
       "      <td>3.8</td>\n",
       "      <td>3.6</td>\n",
       "    </tr>\n",
       "    <tr>\n",
       "      <th>...</th>\n",
       "      <td>...</td>\n",
       "      <td>...</td>\n",
       "      <td>...</td>\n",
       "      <td>...</td>\n",
       "      <td>...</td>\n",
       "      <td>...</td>\n",
       "      <td>...</td>\n",
       "      <td>...</td>\n",
       "      <td>...</td>\n",
       "      <td>...</td>\n",
       "      <td>...</td>\n",
       "    </tr>\n",
       "    <tr>\n",
       "      <th>3926</th>\n",
       "      <td>4465</td>\n",
       "      <td>4465</td>\n",
       "      <td>Teacher</td>\n",
       "      <td>Fu</td>\n",
       "      <td>Liu</td>\n",
       "      <td>Mathematics</td>\n",
       "      <td>VGVhY2hlci05NTY1OTg=</td>\n",
       "      <td>956598</td>\n",
       "      <td>127</td>\n",
       "      <td>2.5</td>\n",
       "      <td>4.2</td>\n",
       "    </tr>\n",
       "    <tr>\n",
       "      <th>3927</th>\n",
       "      <td>4466</td>\n",
       "      <td>4466</td>\n",
       "      <td>Teacher</td>\n",
       "      <td>David</td>\n",
       "      <td>Lang</td>\n",
       "      <td>Economics</td>\n",
       "      <td>VGVhY2hlci0xNDczOTYz</td>\n",
       "      <td>1473963</td>\n",
       "      <td>202</td>\n",
       "      <td>3.6</td>\n",
       "      <td>3.8</td>\n",
       "    </tr>\n",
       "    <tr>\n",
       "      <th>3928</th>\n",
       "      <td>4467</td>\n",
       "      <td>4467</td>\n",
       "      <td>Teacher</td>\n",
       "      <td>Abhaya</td>\n",
       "      <td>Dandekar</td>\n",
       "      <td>Plant &amp; Soil Science</td>\n",
       "      <td>VGVhY2hlci0xODM5MDQx</td>\n",
       "      <td>1839041</td>\n",
       "      <td>7</td>\n",
       "      <td>3.5</td>\n",
       "      <td>2.6</td>\n",
       "    </tr>\n",
       "    <tr>\n",
       "      <th>3929</th>\n",
       "      <td>4468</td>\n",
       "      <td>4468</td>\n",
       "      <td>Teacher</td>\n",
       "      <td>Dina</td>\n",
       "      <td>Zhabinskaya</td>\n",
       "      <td>Physics</td>\n",
       "      <td>VGVhY2hlci0xOTgzMDky</td>\n",
       "      <td>1983092</td>\n",
       "      <td>89</td>\n",
       "      <td>2.8</td>\n",
       "      <td>4.2</td>\n",
       "    </tr>\n",
       "    <tr>\n",
       "      <th>3930</th>\n",
       "      <td>4469</td>\n",
       "      <td>4469</td>\n",
       "      <td>Teacher</td>\n",
       "      <td>Sam</td>\n",
       "      <td>Blitz</td>\n",
       "      <td>Physics</td>\n",
       "      <td>VGVhY2hlci0yMzg3Mzg4</td>\n",
       "      <td>2387388</td>\n",
       "      <td>85</td>\n",
       "      <td>3.3</td>\n",
       "      <td>4.3</td>\n",
       "    </tr>\n",
       "  </tbody>\n",
       "</table>\n",
       "<p>3931 rows × 11 columns</p>\n",
       "</div>"
      ],
      "text/plain": [
       "      Unnamed: 0.1  Unnamed: 0 __typename firstName       lastName  \\\n",
       "0                0           0    Teacher    Robert         Borgen   \n",
       "1                1           1    Teacher      Aram       Yengoyan   \n",
       "2                2           2    Teacher   Patrick  Carroll-Burke   \n",
       "3                3           3    Teacher     Henry        McHenry   \n",
       "4                4           4    Teacher     Peter         Rodman   \n",
       "...            ...         ...        ...       ...            ...   \n",
       "3926          4465        4465    Teacher        Fu            Liu   \n",
       "3927          4466        4466    Teacher     David           Lang   \n",
       "3928          4467        4467    Teacher    Abhaya       Dandekar   \n",
       "3929          4468        4468    Teacher      Dina    Zhabinskaya   \n",
       "3930          4469        4469    Teacher       Sam          Blitz   \n",
       "\n",
       "                department                    id  legacyId  numRatings  \\\n",
       "0                Languages      VGVhY2hlci05NTY2      9566          39   \n",
       "1             Anthropology      VGVhY2hlci05NTY4      9568          47   \n",
       "2           Social Science      VGVhY2hlci05NTcw      9570          13   \n",
       "3             Anthropology  VGVhY2hlci0xMzQ4MQ==     13481         124   \n",
       "4             Anthropology  VGVhY2hlci0yMjIzMA==     22230          73   \n",
       "...                    ...                   ...       ...         ...   \n",
       "3926           Mathematics  VGVhY2hlci05NTY1OTg=    956598         127   \n",
       "3927             Economics  VGVhY2hlci0xNDczOTYz   1473963         202   \n",
       "3928  Plant & Soil Science  VGVhY2hlci0xODM5MDQx   1839041           7   \n",
       "3929               Physics  VGVhY2hlci0xOTgzMDky   1983092          89   \n",
       "3930               Physics  VGVhY2hlci0yMzg3Mzg4   2387388          85   \n",
       "\n",
       "      avgRating  avgDifficulty  \n",
       "0           3.3            2.9  \n",
       "1           2.6            2.7  \n",
       "2           3.2            3.1  \n",
       "3           4.5            2.5  \n",
       "4           3.8            3.6  \n",
       "...         ...            ...  \n",
       "3926        2.5            4.2  \n",
       "3927        3.6            3.8  \n",
       "3928        3.5            2.6  \n",
       "3929        2.8            4.2  \n",
       "3930        3.3            4.3  \n",
       "\n",
       "[3931 rows x 11 columns]"
      ]
     },
     "execution_count": 9,
     "metadata": {},
     "output_type": "execute_result"
    }
   ],
   "source": [
    "profs"
   ]
  },
  {
   "cell_type": "code",
   "execution_count": 10,
   "metadata": {},
   "outputs": [
    {
     "data": {
      "text/plain": [
       "20.91859577715594"
      ]
     },
     "execution_count": 10,
     "metadata": {},
     "output_type": "execute_result"
    }
   ],
   "source": [
    "# mean number of ratings\n",
    "profs['numRatings'].mean()"
   ]
  },
  {
   "cell_type": "code",
   "execution_count": 11,
   "metadata": {},
   "outputs": [
    {
     "data": {
      "text/plain": [
       "<AxesSubplot:>"
      ]
     },
     "execution_count": 11,
     "metadata": {},
     "output_type": "execute_result"
    },
    {
     "data": {
      "image/png": "[encoded data removed]",
      "text/plain": [
       "<Figure size 640x480 with 1 Axes>"
      ]
     },
     "metadata": {},
     "output_type": "display_data"
    }
   ],
   "source": [
    "# quick plot of ratings\n",
    "profs['numRatings'].plot()"
   ]
  },
  {
   "cell_type": "code",
   "execution_count": 12,
   "metadata": {},
   "outputs": [
    {
     "data": {
      "text/plain": [
       "Unnamed: 0.1                     3019\n",
       "Unnamed: 0                       3019\n",
       "__typename                    Teacher\n",
       "firstName                     Andreas\n",
       "lastName                   Toupadakis\n",
       "department                  Chemistry\n",
       "id               VGVhY2hlci01NjE1OTk=\n",
       "legacyId                       561599\n",
       "numRatings                        856\n",
       "avgRating                         3.3\n",
       "avgDifficulty                     3.1\n",
       "Name: 2606, dtype: object"
      ]
     },
     "execution_count": 12,
     "metadata": {},
     "output_type": "execute_result"
    }
   ],
   "source": [
    "# prof with most ratings\n",
    "profs.loc[profs['numRatings'].idxmax()]"
   ]
  },
  {
   "cell_type": "code",
   "execution_count": 14,
   "metadata": {},
   "outputs": [
    {
     "data": {
      "text/plain": [
       "<AxesSubplot:xlabel='avgRating', ylabel='Count'>"
      ]
     },
     "execution_count": 14,
     "metadata": {},
     "output_type": "execute_result"
    },
    {
     "data": {
      "image/png": "[encoded data removed]",
      "text/plain": [
       "<Figure size 640x480 with 1 Axes>"
      ]
     },
     "metadata": {},
     "output_type": "display_data"
    }
   ],
   "source": [
    "# histogram of average rating\n",
    "sns.histplot(profs['avgRating'], binwidth=0.5)"
   ]
  },
  {
   "cell_type": "code",
   "execution_count": 15,
   "metadata": {},
   "outputs": [
    {
     "data": {
      "text/plain": [
       "<AxesSubplot:xlabel='avgDifficulty', ylabel='Count'>"
      ]
     },
     "execution_count": 15,
     "metadata": {},
     "output_type": "execute_result"
    },
    {
     "data": {
      "image/png": "[encoded data removed]",
      "text/plain": [
       "<Figure size 640x480 with 1 Axes>"
      ]
     },
     "metadata": {},
     "output_type": "display_data"
    }
   ],
   "source": [
    "# histogram of average difficulty rating\n",
    "sns.histplot(profs['avgDifficulty'], binwidth=0.5)"
   ]
  },
  {
   "cell_type": "code",
   "execution_count": 16,
   "metadata": {},
   "outputs": [
    {
     "data": {
      "text/plain": [
       "<AxesSubplot:xlabel='avgDifficulty', ylabel='avgRating'>"
      ]
     },
     "execution_count": 16,
     "metadata": {},
     "output_type": "execute_result"
    },
    {
     "data": {
      "image/png": "[encoded data removed]",
      "text/plain": [
       "<Figure size 640x480 with 1 Axes>"
      ]
     },
     "metadata": {},
     "output_type": "display_data"
    }
   ],
   "source": [
    "# scatterplot rating vs difficulty\n",
    "sns.scatterplot(profs, x=profs['avgDifficulty'], y=profs['avgRating'])"
   ]
  },
  {
   "cell_type": "code",
   "execution_count": 17,
   "metadata": {},
   "outputs": [
    {
     "name": "stdout",
     "output_type": "stream",
     "text": [
      "Correlation between average rating and average dificulty is:  -0.5175470483184978\n"
     ]
    }
   ],
   "source": [
    "# correlation\n",
    "corr = profs['avgRating'].corr(profs['avgDifficulty'])\n",
    "print(\"Correlation between average rating and average dificulty is: \", corr)"
   ]
  },
  {
   "cell_type": "code",
   "execution_count": 38,
   "metadata": {},
   "outputs": [
    {
     "data": {
      "text/html": [
       "<div>\n",
       "<style scoped>\n",
       "    .dataframe tbody tr th:only-of-type {\n",
       "        vertical-align: middle;\n",
       "    }\n",
       "\n",
       "    .dataframe tbody tr th {\n",
       "        vertical-align: top;\n",
       "    }\n",
       "\n",
       "    .dataframe thead th {\n",
       "        text-align: right;\n",
       "    }\n",
       "</style>\n",
       "<table border=\"1\" class=\"dataframe\">\n",
       "  <thead>\n",
       "    <tr style=\"text-align: right;\">\n",
       "      <th></th>\n",
       "      <th>department</th>\n",
       "      <th>avgRating</th>\n",
       "    </tr>\n",
       "  </thead>\n",
       "  <tbody>\n",
       "    <tr>\n",
       "      <th>0</th>\n",
       "      <td>Accounting</td>\n",
       "      <td>4.00</td>\n",
       "    </tr>\n",
       "    <tr>\n",
       "      <th>1</th>\n",
       "      <td>Advisor</td>\n",
       "      <td>3.40</td>\n",
       "    </tr>\n",
       "    <tr>\n",
       "      <th>2</th>\n",
       "      <td>African-American Studies</td>\n",
       "      <td>3.92</td>\n",
       "    </tr>\n",
       "    <tr>\n",
       "      <th>3</th>\n",
       "      <td>Agricultural  Resource Economics</td>\n",
       "      <td>3.10</td>\n",
       "    </tr>\n",
       "    <tr>\n",
       "      <th>4</th>\n",
       "      <td>Agricultural &amp; Resource Economics</td>\n",
       "      <td>2.96</td>\n",
       "    </tr>\n",
       "    <tr>\n",
       "      <th>...</th>\n",
       "      <td>...</td>\n",
       "      <td>...</td>\n",
       "    </tr>\n",
       "    <tr>\n",
       "      <th>147</th>\n",
       "      <td>Wildlife</td>\n",
       "      <td>4.20</td>\n",
       "    </tr>\n",
       "    <tr>\n",
       "      <th>148</th>\n",
       "      <td>Women</td>\n",
       "      <td>3.20</td>\n",
       "    </tr>\n",
       "    <tr>\n",
       "      <th>149</th>\n",
       "      <td>Women's Studies</td>\n",
       "      <td>3.90</td>\n",
       "    </tr>\n",
       "    <tr>\n",
       "      <th>150</th>\n",
       "      <td>Workload</td>\n",
       "      <td>1.40</td>\n",
       "    </tr>\n",
       "    <tr>\n",
       "      <th>151</th>\n",
       "      <td>Writing</td>\n",
       "      <td>4.01</td>\n",
       "    </tr>\n",
       "  </tbody>\n",
       "</table>\n",
       "<p>152 rows × 2 columns</p>\n",
       "</div>"
      ],
      "text/plain": [
       "                            department  avgRating\n",
       "0                           Accounting       4.00\n",
       "1                              Advisor       3.40\n",
       "2             African-American Studies       3.92\n",
       "3     Agricultural  Resource Economics       3.10\n",
       "4    Agricultural & Resource Economics       2.96\n",
       "..                                 ...        ...\n",
       "147                           Wildlife       4.20\n",
       "148                              Women       3.20\n",
       "149                    Women's Studies       3.90\n",
       "150                           Workload       1.40\n",
       "151                            Writing       4.01\n",
       "\n",
       "[152 rows x 2 columns]"
      ]
     },
     "execution_count": 38,
     "metadata": {},
     "output_type": "execute_result"
    }
   ],
   "source": [
    "# average rating by department\n",
    "rating_by_dept = profs.groupby('department')['avgRating'].mean()\n",
    "rating_by_dept = pd.DataFrame({'department': rating_by_dept.index, 'avgRating': rating_by_dept.values})\n",
    "rating_by_dept['avgRating'] = rating_by_dept['avgRating'].round(decimals=2)\n",
    "rating_by_dept"
   ]
  },
  {
   "cell_type": "code",
   "execution_count": 40,
   "metadata": {},
   "outputs": [
    {
     "data": {
      "text/plain": [
       "<AxesSubplot:xlabel='department', ylabel='avgRating'>"
      ]
     },
     "execution_count": 40,
     "metadata": {},
     "output_type": "execute_result"
    },
    {
     "data": {
      "image/png": "[encoded data removed]",
      "text/plain": [
       "<Figure size 640x480 with 1 Axes>"
      ]
     },
     "metadata": {},
     "output_type": "display_data"
    }
   ],
   "source": [
    "# rating by dept barplot\n",
    "sns.barplot(rating_by_dept, x=rating_by_dept['department'], y=rating_by_dept['avgRating'])"
   ]
  },
  {
   "cell_type": "code",
   "execution_count": 39,
   "metadata": {},
   "outputs": [
    {
     "data": {
      "text/plain": [
       "152"
      ]
     },
     "execution_count": 39,
     "metadata": {},
     "output_type": "execute_result"
    }
   ],
   "source": [
    "# count number of unique departments\n",
    "rating_by_dept['department'].nunique()\n"
   ]
  },
  {
   "cell_type": "code",
   "execution_count": 41,
   "metadata": {},
   "outputs": [
    {
     "data": {
      "text/html": [
       "<div>\n",
       "<style scoped>\n",
       "    .dataframe tbody tr th:only-of-type {\n",
       "        vertical-align: middle;\n",
       "    }\n",
       "\n",
       "    .dataframe tbody tr th {\n",
       "        vertical-align: top;\n",
       "    }\n",
       "\n",
       "    .dataframe thead th {\n",
       "        text-align: right;\n",
       "    }\n",
       "</style>\n",
       "<table border=\"1\" class=\"dataframe\">\n",
       "  <thead>\n",
       "    <tr style=\"text-align: right;\">\n",
       "      <th></th>\n",
       "      <th>department</th>\n",
       "      <th>avgDifficulty</th>\n",
       "    </tr>\n",
       "  </thead>\n",
       "  <tbody>\n",
       "    <tr>\n",
       "      <th>0</th>\n",
       "      <td>Accounting</td>\n",
       "      <td>2.70</td>\n",
       "    </tr>\n",
       "    <tr>\n",
       "      <th>1</th>\n",
       "      <td>Advisor</td>\n",
       "      <td>2.55</td>\n",
       "    </tr>\n",
       "    <tr>\n",
       "      <th>2</th>\n",
       "      <td>African-American Studies</td>\n",
       "      <td>2.58</td>\n",
       "    </tr>\n",
       "    <tr>\n",
       "      <th>3</th>\n",
       "      <td>Agricultural  Resource Economics</td>\n",
       "      <td>3.75</td>\n",
       "    </tr>\n",
       "    <tr>\n",
       "      <th>4</th>\n",
       "      <td>Agricultural &amp; Resource Economics</td>\n",
       "      <td>3.85</td>\n",
       "    </tr>\n",
       "    <tr>\n",
       "      <th>...</th>\n",
       "      <td>...</td>\n",
       "      <td>...</td>\n",
       "    </tr>\n",
       "    <tr>\n",
       "      <th>147</th>\n",
       "      <td>Wildlife</td>\n",
       "      <td>2.90</td>\n",
       "    </tr>\n",
       "    <tr>\n",
       "      <th>148</th>\n",
       "      <td>Women</td>\n",
       "      <td>3.00</td>\n",
       "    </tr>\n",
       "    <tr>\n",
       "      <th>149</th>\n",
       "      <td>Women's Studies</td>\n",
       "      <td>2.90</td>\n",
       "    </tr>\n",
       "    <tr>\n",
       "      <th>150</th>\n",
       "      <td>Workload</td>\n",
       "      <td>4.60</td>\n",
       "    </tr>\n",
       "    <tr>\n",
       "      <th>151</th>\n",
       "      <td>Writing</td>\n",
       "      <td>2.80</td>\n",
       "    </tr>\n",
       "  </tbody>\n",
       "</table>\n",
       "<p>152 rows × 2 columns</p>\n",
       "</div>"
      ],
      "text/plain": [
       "                            department  avgDifficulty\n",
       "0                           Accounting           2.70\n",
       "1                              Advisor           2.55\n",
       "2             African-American Studies           2.58\n",
       "3     Agricultural  Resource Economics           3.75\n",
       "4    Agricultural & Resource Economics           3.85\n",
       "..                                 ...            ...\n",
       "147                           Wildlife           2.90\n",
       "148                              Women           3.00\n",
       "149                    Women's Studies           2.90\n",
       "150                           Workload           4.60\n",
       "151                            Writing           2.80\n",
       "\n",
       "[152 rows x 2 columns]"
      ]
     },
     "execution_count": 41,
     "metadata": {},
     "output_type": "execute_result"
    }
   ],
   "source": [
    "# average difficulty by department\n",
    "diff_by_dept = profs.groupby('department')['avgDifficulty'].mean()\n",
    "diff_by_dept = pd.DataFrame({'department': diff_by_dept.index, 'avgDifficulty': diff_by_dept.values})\n",
    "diff_by_dept['avgDifficulty'] = diff_by_dept['avgDifficulty'].round(decimals=2)\n",
    "diff_by_dept"
   ]
  },
  {
   "cell_type": "code",
   "execution_count": 47,
   "metadata": {},
   "outputs": [
    {
     "data": {
      "text/html": [
       "<div>\n",
       "<style scoped>\n",
       "    .dataframe tbody tr th:only-of-type {\n",
       "        vertical-align: middle;\n",
       "    }\n",
       "\n",
       "    .dataframe tbody tr th {\n",
       "        vertical-align: top;\n",
       "    }\n",
       "\n",
       "    .dataframe thead th {\n",
       "        text-align: right;\n",
       "    }\n",
       "</style>\n",
       "<table border=\"1\" class=\"dataframe\">\n",
       "  <thead>\n",
       "    <tr style=\"text-align: right;\">\n",
       "      <th></th>\n",
       "      <th>department</th>\n",
       "      <th>avgRating</th>\n",
       "    </tr>\n",
       "  </thead>\n",
       "  <tbody>\n",
       "    <tr>\n",
       "      <th>82</th>\n",
       "      <td>Landscape Architecture  Regional Planning</td>\n",
       "      <td>5.00</td>\n",
       "    </tr>\n",
       "    <tr>\n",
       "      <th>84</th>\n",
       "      <td>Landscape Architecture amp Regional Planning</td>\n",
       "      <td>5.00</td>\n",
       "    </tr>\n",
       "    <tr>\n",
       "      <th>28</th>\n",
       "      <td>Cell Biology &amp; Neuroanatomy</td>\n",
       "      <td>5.00</td>\n",
       "    </tr>\n",
       "    <tr>\n",
       "      <th>133</th>\n",
       "      <td>Student Services</td>\n",
       "      <td>5.00</td>\n",
       "    </tr>\n",
       "    <tr>\n",
       "      <th>125</th>\n",
       "      <td>Russian</td>\n",
       "      <td>5.00</td>\n",
       "    </tr>\n",
       "    <tr>\n",
       "      <th>...</th>\n",
       "      <td>...</td>\n",
       "      <td>...</td>\n",
       "    </tr>\n",
       "    <tr>\n",
       "      <th>81</th>\n",
       "      <td>Land, Air &amp; Water Resources</td>\n",
       "      <td>2.95</td>\n",
       "    </tr>\n",
       "    <tr>\n",
       "      <th>24</th>\n",
       "      <td>Biomedical Engineering</td>\n",
       "      <td>2.95</td>\n",
       "    </tr>\n",
       "    <tr>\n",
       "      <th>92</th>\n",
       "      <td>Managerial Science</td>\n",
       "      <td>2.80</td>\n",
       "    </tr>\n",
       "    <tr>\n",
       "      <th>26</th>\n",
       "      <td>Business</td>\n",
       "      <td>2.78</td>\n",
       "    </tr>\n",
       "    <tr>\n",
       "      <th>150</th>\n",
       "      <td>Workload</td>\n",
       "      <td>1.40</td>\n",
       "    </tr>\n",
       "  </tbody>\n",
       "</table>\n",
       "<p>152 rows × 2 columns</p>\n",
       "</div>"
      ],
      "text/plain": [
       "                                       department  avgRating\n",
       "82      Landscape Architecture  Regional Planning       5.00\n",
       "84   Landscape Architecture amp Regional Planning       5.00\n",
       "28                    Cell Biology & Neuroanatomy       5.00\n",
       "133                              Student Services       5.00\n",
       "125                                       Russian       5.00\n",
       "..                                            ...        ...\n",
       "81                    Land, Air & Water Resources       2.95\n",
       "24                         Biomedical Engineering       2.95\n",
       "92                             Managerial Science       2.80\n",
       "26                                       Business       2.78\n",
       "150                                      Workload       1.40\n",
       "\n",
       "[152 rows x 2 columns]"
      ]
     },
     "execution_count": 47,
     "metadata": {},
     "output_type": "execute_result"
    }
   ],
   "source": [
    "# sort by rating\n",
    "rating_by_dept.sort_values('avgRating', ascending=False)"
   ]
  },
  {
   "cell_type": "code",
   "execution_count": 42,
   "metadata": {},
   "outputs": [
    {
     "data": {
      "text/plain": [
       "<AxesSubplot:xlabel='department', ylabel='avgDifficulty'>"
      ]
     },
     "execution_count": 42,
     "metadata": {},
     "output_type": "execute_result"
    },
    {
     "data": {
      "image/png": "[encoded data removed]",
      "text/plain": [
       "<Figure size 640x480 with 1 Axes>"
      ]
     },
     "metadata": {},
     "output_type": "display_data"
    }
   ],
   "source": [
    "# difficulty by dept barplot\n",
    "sns.barplot(diff_by_dept, x=diff_by_dept['department'], y=diff_by_dept['avgDifficulty'])"
   ]
  },
  {
   "cell_type": "code",
   "execution_count": 44,
   "metadata": {},
   "outputs": [
    {
     "data": {
      "text/plain": [
       "department       Workload\n",
       "avgDifficulty         4.6\n",
       "Name: 150, dtype: object"
      ]
     },
     "execution_count": 44,
     "metadata": {},
     "output_type": "execute_result"
    }
   ],
   "source": [
    "# department with highest difficulty\n",
    "diff_by_dept.loc[diff_by_dept['avgDifficulty'].idxmax()]\n",
    "\n",
    "# what the heck is the Workload dept??"
   ]
  },
  {
   "cell_type": "code",
   "execution_count": 46,
   "metadata": {},
   "outputs": [
    {
     "data": {
      "text/html": [
       "<div>\n",
       "<style scoped>\n",
       "    .dataframe tbody tr th:only-of-type {\n",
       "        vertical-align: middle;\n",
       "    }\n",
       "\n",
       "    .dataframe tbody tr th {\n",
       "        vertical-align: top;\n",
       "    }\n",
       "\n",
       "    .dataframe thead th {\n",
       "        text-align: right;\n",
       "    }\n",
       "</style>\n",
       "<table border=\"1\" class=\"dataframe\">\n",
       "  <thead>\n",
       "    <tr style=\"text-align: right;\">\n",
       "      <th></th>\n",
       "      <th>department</th>\n",
       "      <th>avgDifficulty</th>\n",
       "    </tr>\n",
       "  </thead>\n",
       "  <tbody>\n",
       "    <tr>\n",
       "      <th>150</th>\n",
       "      <td>Workload</td>\n",
       "      <td>4.60</td>\n",
       "    </tr>\n",
       "    <tr>\n",
       "      <th>27</th>\n",
       "      <td>Cell Biology  Neuroanatomy</td>\n",
       "      <td>4.10</td>\n",
       "    </tr>\n",
       "    <tr>\n",
       "      <th>81</th>\n",
       "      <td>Land, Air &amp; Water Resources</td>\n",
       "      <td>4.05</td>\n",
       "    </tr>\n",
       "    <tr>\n",
       "      <th>122</th>\n",
       "      <td>Pomology</td>\n",
       "      <td>4.00</td>\n",
       "    </tr>\n",
       "    <tr>\n",
       "      <th>92</th>\n",
       "      <td>Managerial Science</td>\n",
       "      <td>4.00</td>\n",
       "    </tr>\n",
       "    <tr>\n",
       "      <th>...</th>\n",
       "      <td>...</td>\n",
       "      <td>...</td>\n",
       "    </tr>\n",
       "    <tr>\n",
       "      <th>88</th>\n",
       "      <td>Learning Center</td>\n",
       "      <td>1.90</td>\n",
       "    </tr>\n",
       "    <tr>\n",
       "      <th>112</th>\n",
       "      <td>Physical Ed</td>\n",
       "      <td>1.82</td>\n",
       "    </tr>\n",
       "    <tr>\n",
       "      <th>98</th>\n",
       "      <td>Military Science</td>\n",
       "      <td>1.67</td>\n",
       "    </tr>\n",
       "    <tr>\n",
       "      <th>113</th>\n",
       "      <td>Physical Education</td>\n",
       "      <td>1.59</td>\n",
       "    </tr>\n",
       "    <tr>\n",
       "      <th>71</th>\n",
       "      <td>Greek</td>\n",
       "      <td>1.50</td>\n",
       "    </tr>\n",
       "  </tbody>\n",
       "</table>\n",
       "<p>152 rows × 2 columns</p>\n",
       "</div>"
      ],
      "text/plain": [
       "                      department  avgDifficulty\n",
       "150                     Workload           4.60\n",
       "27    Cell Biology  Neuroanatomy           4.10\n",
       "81   Land, Air & Water Resources           4.05\n",
       "122                     Pomology           4.00\n",
       "92            Managerial Science           4.00\n",
       "..                           ...            ...\n",
       "88               Learning Center           1.90\n",
       "112                  Physical Ed           1.82\n",
       "98              Military Science           1.67\n",
       "113           Physical Education           1.59\n",
       "71                         Greek           1.50\n",
       "\n",
       "[152 rows x 2 columns]"
      ]
     },
     "execution_count": 46,
     "metadata": {},
     "output_type": "execute_result"
    }
   ],
   "source": [
    "# sort by difficulty\n",
    "diff_by_dept.sort_values('avgDifficulty', ascending=False)"
   ]
  }
 ],
 "metadata": {
  "kernelspec": {
   "display_name": "Python 3 (ipykernel)",
   "language": "python",
   "name": "python3"
  },
  "language_info": {
   "codemirror_mode": {
    "name": "ipython",
    "version": 3
   },
   "file_extension": ".py",
   "mimetype": "text/x-python",
   "name": "python",
   "nbconvert_exporter": "python",
   "pygments_lexer": "ipython3",
   "version": "3.9.12"
  },
  "vscode": {
   "interpreter": {
    "hash": "03926c0d8c148ea859b23ae3d6ae7e1e505b1326aba0e9843e096efc3de37a95"
   }
  }
 },
 "nbformat": 4,
 "nbformat_minor": 2
}
